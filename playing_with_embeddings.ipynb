{
 "cells": [
  {
   "cell_type": "code",
   "execution_count": 1,
   "id": "a53be8be-ba5f-4b01-a4de-91e3f1786735",
   "metadata": {},
   "outputs": [],
   "source": [
    "from process_embedding_data import process_embedding_data\n",
    "from vector_manipulation import *"
   ]
  },
  {
   "cell_type": "code",
   "execution_count": 2,
   "id": "b29cd118-78fe-4e9d-abcd-10f4be5c6a9f",
   "metadata": {},
   "outputs": [
    {
     "data": {
      "text/plain": [
       "[2, 7, 6, 8]"
      ]
     },
     "execution_count": 2,
     "metadata": {},
     "output_type": "execute_result"
    }
   ],
   "source": [
    "vector_add([1,3,4,5],[1,4,2,3])"
   ]
  },
  {
   "cell_type": "code",
   "execution_count": 3,
   "id": "2e131196-7fcc-4162-833e-5e21b062e4b3",
   "metadata": {},
   "outputs": [],
   "source": [
    "embedding_data = process_embedding_data('glove.6B.100d.txt')"
   ]
  },
  {
   "cell_type": "code",
   "execution_count": 4,
   "id": "5c1fb334-6519-4e72-9fa2-c20e832e266d",
   "metadata": {},
   "outputs": [
    {
     "data": {
      "text/plain": [
       "[0.26688,\n",
       " 0.39632,\n",
       " 0.6169,\n",
       " -0.77451,\n",
       " -0.1039,\n",
       " 0.26697,\n",
       " 0.2788,\n",
       " 0.30992,\n",
       " 0.0054685,\n",
       " -0.085256,\n",
       " 0.73602,\n",
       " -0.098432,\n",
       " 0.5479,\n",
       " -0.030305,\n",
       " 0.33479,\n",
       " 0.14094,\n",
       " -0.0070003,\n",
       " 0.32569,\n",
       " 0.22902,\n",
       " 0.46557,\n",
       " -0.19531,\n",
       " 0.37491,\n",
       " -0.7139,\n",
       " -0.51775,\n",
       " 0.77039,\n",
       " 1.0881,\n",
       " -0.66011,\n",
       " -0.16234,\n",
       " 0.9119,\n",
       " 0.21046,\n",
       " 0.047494,\n",
       " 1.0019,\n",
       " 1.1133,\n",
       " 0.70094,\n",
       " -0.08696,\n",
       " 0.47571,\n",
       " 0.1636,\n",
       " -0.44469,\n",
       " 0.4469,\n",
       " -0.93817,\n",
       " 0.013101,\n",
       " 0.085964,\n",
       " -0.67456,\n",
       " 0.49662,\n",
       " -0.037827,\n",
       " -0.11038,\n",
       " -0.28612,\n",
       " 0.074606,\n",
       " -0.31527,\n",
       " -0.093774,\n",
       " -0.57069,\n",
       " 0.66865,\n",
       " 0.45307,\n",
       " -0.34154,\n",
       " -0.7166,\n",
       " -0.75273,\n",
       " 0.075212,\n",
       " 0.57903,\n",
       " -0.1191,\n",
       " -0.11379,\n",
       " -0.10026,\n",
       " 0.71341,\n",
       " -1.1574,\n",
       " -0.74026,\n",
       " 0.40452,\n",
       " 0.18023,\n",
       " 0.21449,\n",
       " 0.37638,\n",
       " 0.11239,\n",
       " -0.53639,\n",
       " -0.025092,\n",
       " 0.31886,\n",
       " -0.25013,\n",
       " -0.63283,\n",
       " -0.011843,\n",
       " 1.377,\n",
       " 0.86013,\n",
       " 0.20476,\n",
       " -0.36815,\n",
       " -0.68874,\n",
       " 0.53512,\n",
       " -0.46556,\n",
       " 0.27389,\n",
       " 0.4118,\n",
       " -0.854,\n",
       " -0.046288,\n",
       " 0.11304,\n",
       " -0.27326,\n",
       " 0.15636,\n",
       " -0.20334,\n",
       " 0.53586,\n",
       " 0.59784,\n",
       " 0.60469,\n",
       " 0.13735,\n",
       " 0.42232,\n",
       " -0.61279,\n",
       " -0.38486,\n",
       " 0.35842,\n",
       " -0.48464,\n",
       " 0.30728]"
      ]
     },
     "execution_count": 4,
     "metadata": {},
     "output_type": "execute_result"
    }
   ],
   "source": [
    "embedding_data['hello']"
   ]
  },
  {
   "cell_type": "code",
   "execution_count": 17,
   "id": "608d70f3-a97c-4eee-9c64-50b94a72e22f",
   "metadata": {},
   "outputs": [],
   "source": [
    "king, man, woman, queen = embedding_data['king'], embedding_data['man'], embedding_data['woman'], embedding_data['queen']\n",
    "disallowed_keys = {'king','man','woman'}\n",
    "#new_vector = vector_add(vector_sub(man, king), queen)\n",
    "new_vector = vector_add(vector_sub(king, man), woman)"
   ]
  },
  {
   "cell_type": "code",
   "execution_count": 18,
   "id": "809e65ea-61f1-407d-a289-1682ba681c73",
   "metadata": {
    "scrolled": true
   },
   "outputs": [
    {
     "data": {
      "text/plain": [
       "[('king', 3.3640678973733342),\n",
       " ('queen', 4.081078579600476),\n",
       " ('monarch', 4.6429073908927885),\n",
       " ('throne', 4.905500707490237),\n",
       " ('elizabeth', 4.921558914642318)]"
      ]
     },
     "execution_count": 18,
     "metadata": {},
     "output_type": "execute_result"
    }
   ],
   "source": [
    "closest_vectors(new_vector, embedding_data)"
   ]
  },
  {
   "cell_type": "code",
   "execution_count": 10,
   "id": "229e4e1c-387f-4252-88c7-43f30e234302",
   "metadata": {},
   "outputs": [
    {
     "data": {
      "text/plain": [
       "[('king', 0.0),\n",
       " ('prince', 4.092165813215174),\n",
       " ('queen', 4.281252149113388),\n",
       " ('monarch', 4.474171532331213),\n",
       " ('brother', 4.5366684108152535)]"
      ]
     },
     "execution_count": 10,
     "metadata": {},
     "output_type": "execute_result"
    }
   ],
   "source": [
    "closest_vectors(king, embedding_data)"
   ]
  },
  {
   "cell_type": "code",
   "execution_count": 11,
   "id": "8747fafa-bc0d-48d8-a825-ea749abcd1f1",
   "metadata": {},
   "outputs": [
    {
     "data": {
      "text/plain": [
       "[('king', 0.8551837179098598),\n",
       " ('queen', 0.7834414335881458),\n",
       " ('monarch', 0.693380225237166),\n",
       " ('throne', 0.6833110156898368),\n",
       " ('daughter', 0.6809082498424321)]"
      ]
     },
     "execution_count": 11,
     "metadata": {},
     "output_type": "execute_result"
    }
   ],
   "source": [
    "most_similar_vectors(new_vector, embedding_data)"
   ]
  },
  {
   "cell_type": "code",
   "execution_count": 12,
   "id": "1d3c8a3d-44aa-410e-995d-d277ba0cfef3",
   "metadata": {},
   "outputs": [],
   "source": [
    "mother, daughter, father = embedding_data['mother'], embedding_data['daughter'], embedding_data['father']\n",
    "new_vector = vector_add(vector_sub(daughter, mother), father)"
   ]
  },
  {
   "cell_type": "code",
   "execution_count": 13,
   "id": "720b352d-0398-473a-a82a-a39b82d512b6",
   "metadata": {},
   "outputs": [
    {
     "data": {
      "text/plain": [
       "[('son', 0.9596820674221385),\n",
       " ('father', 0.9176239898434361),\n",
       " ('brother', 0.9167050898101698),\n",
       " ('daughter', 0.8861245395883441),\n",
       " ('nephew', 0.8698057423518647)]"
      ]
     },
     "execution_count": 13,
     "metadata": {},
     "output_type": "execute_result"
    }
   ],
   "source": [
    "most_similar_vectors(new_vector, embedding_data)"
   ]
  },
  {
   "cell_type": "code",
   "execution_count": 26,
   "id": "01d6db4d-4f05-43f4-a0bf-5f32f61dfac7",
   "metadata": {},
   "outputs": [],
   "source": [
    "def d(key):\n",
    "    return embedding_data[key]"
   ]
  },
  {
   "cell_type": "code",
   "execution_count": 30,
   "id": "cea96afa-0012-48b0-90a2-e9572c0b55df",
   "metadata": {},
   "outputs": [
    {
     "data": {
      "text/plain": [
       "0.5012150031266046"
      ]
     },
     "execution_count": 30,
     "metadata": {},
     "output_type": "execute_result"
    }
   ],
   "source": [
    "vector_cos(d('man'), d('dangerous'))"
   ]
  },
  {
   "cell_type": "code",
   "execution_count": 31,
   "id": "a7468de3-3c4c-4150-a9ed-e98a6b1dddf7",
   "metadata": {},
   "outputs": [
    {
     "data": {
      "text/plain": [
       "0.36988286936102766"
      ]
     },
     "execution_count": 31,
     "metadata": {},
     "output_type": "execute_result"
    }
   ],
   "source": [
    "vector_cos(d('woman'), d('dangerous'))"
   ]
  },
  {
   "cell_type": "code",
   "execution_count": 32,
   "id": "2b2a4c6c-6a52-48ec-a515-7890f91457b6",
   "metadata": {},
   "outputs": [
    {
     "data": {
      "text/plain": [
       "0.3639119105616667"
      ]
     },
     "execution_count": 32,
     "metadata": {},
     "output_type": "execute_result"
    }
   ],
   "source": [
    "vector_cos(d('black'), d('dangerous'))"
   ]
  },
  {
   "cell_type": "code",
   "execution_count": 33,
   "id": "ad98867a-31a3-4798-b7ce-c57580cb4750",
   "metadata": {},
   "outputs": [
    {
     "data": {
      "text/plain": [
       "0.31852104529792274"
      ]
     },
     "execution_count": 33,
     "metadata": {},
     "output_type": "execute_result"
    }
   ],
   "source": [
    "vector_cos(d('white'), d('dangerous'))"
   ]
  },
  {
   "cell_type": "code",
   "execution_count": 34,
   "id": "1dabae13-9ba4-4800-9c0d-ed1f82be66c0",
   "metadata": {},
   "outputs": [
    {
     "data": {
      "text/plain": [
       "0.2782372403875193"
      ]
     },
     "execution_count": 34,
     "metadata": {},
     "output_type": "execute_result"
    }
   ],
   "source": [
    "vector_cos(d('black'), d('dumb'))"
   ]
  },
  {
   "cell_type": "code",
   "execution_count": 35,
   "id": "66d56e22-01bd-4d1e-b24f-e130b294b54c",
   "metadata": {},
   "outputs": [
    {
     "data": {
      "text/plain": [
       "0.2319220895371558"
      ]
     },
     "execution_count": 35,
     "metadata": {},
     "output_type": "execute_result"
    }
   ],
   "source": [
    "vector_cos(d('white'), d('dumb'))"
   ]
  },
  {
   "cell_type": "code",
   "execution_count": 41,
   "id": "e98e2fd3-3e6c-48d0-bd25-f90b4cccac1d",
   "metadata": {},
   "outputs": [
    {
     "data": {
      "text/plain": [
       "0.3285583545317735"
      ]
     },
     "execution_count": 41,
     "metadata": {},
     "output_type": "execute_result"
    }
   ],
   "source": [
    "vector_cos(d('black'), d('foreign'))"
   ]
  },
  {
   "cell_type": "code",
   "execution_count": 39,
   "id": "cb92eb7f-23be-4efe-9e4e-fc19665edca2",
   "metadata": {},
   "outputs": [
    {
     "data": {
      "text/plain": [
       "0.4231126943813113"
      ]
     },
     "execution_count": 39,
     "metadata": {},
     "output_type": "execute_result"
    }
   ],
   "source": [
    "vector_cos(d('muslim'), d('foreign'))"
   ]
  },
  {
   "cell_type": "code",
   "execution_count": 48,
   "id": "3e19031c-f027-464e-9766-4813bfc85842",
   "metadata": {},
   "outputs": [
    {
     "data": {
      "text/plain": [
       "True"
      ]
     },
     "execution_count": 48,
     "metadata": {},
     "output_type": "execute_result"
    }
   ],
   "source": [
    "'gender-neutral' in embedding_data"
   ]
  },
  {
   "cell_type": "code",
   "execution_count": null,
   "id": "8ca31399-aa39-4074-8452-84e0178405e7",
   "metadata": {},
   "outputs": [],
   "source": []
  }
 ],
 "metadata": {
  "kernelspec": {
   "display_name": "Python 3 (ipykernel)",
   "language": "python",
   "name": "python3"
  },
  "language_info": {
   "codemirror_mode": {
    "name": "ipython",
    "version": 3
   },
   "file_extension": ".py",
   "mimetype": "text/x-python",
   "name": "python",
   "nbconvert_exporter": "python",
   "pygments_lexer": "ipython3",
   "version": "3.8.10"
  }
 },
 "nbformat": 4,
 "nbformat_minor": 5
}
